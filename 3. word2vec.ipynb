{
 "cells": [
  {
   "cell_type": "markdown",
   "id": "76d17569-3e0c-4dbf-b42c-d671e13995cc",
   "metadata": {},
   "source": [
    "# Bag of Words Meets Bags of Popcorn\n",
    "## 2. Word2Vec\n",
    "#### Kaggle NLP Training"
   ]
  },
  {
   "cell_type": "code",
   "execution_count": null,
   "id": "d9c14b6d-1677-4ab6-bce9-3cbf7f74435e",
   "metadata": {},
   "outputs": [],
   "source": []
  }
 ],
 "metadata": {
  "kernelspec": {
   "display_name": "Python 3 (ipykernel)",
   "language": "python",
   "name": "python3"
  },
  "language_info": {
   "codemirror_mode": {
    "name": "ipython",
    "version": 3
   },
   "file_extension": ".py",
   "mimetype": "text/x-python",
   "name": "python",
   "nbconvert_exporter": "python",
   "pygments_lexer": "ipython3",
   "version": "3.8.13"
  }
 },
 "nbformat": 4,
 "nbformat_minor": 5
}
