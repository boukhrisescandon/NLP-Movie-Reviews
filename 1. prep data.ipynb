{
 "cells": [
  {
   "cell_type": "markdown",
   "id": "61d50dc9-3d65-4218-b9f9-69e7760217aa",
   "metadata": {},
   "source": [
    "# Bag of Words Meets Bags of Popcorn\n",
    "## 1. Clean the unstructured movie reviews\n",
    "#### Kaggle NLP Training"
   ]
  },
  {
   "cell_type": "code",
   "execution_count": 32,
   "id": "cce60e29-cfdc-402f-908f-f023e848288e",
   "metadata": {},
   "outputs": [
    {
     "name": "stderr",
     "output_type": "stream",
     "text": [
      "[nltk_data] Downloading package stopwords to /Users/boukhris-\n",
      "[nltk_data]     escandon/nltk_data...\n",
      "[nltk_data]   Package stopwords is already up-to-date!\n",
      "[nltk_data] Downloading package omw-1.4 to /Users/boukhris-\n",
      "[nltk_data]     escandon/nltk_data...\n"
     ]
    }
   ],
   "source": [
    "import pandas as pd\n",
    "import re\n",
    "import nltk\n",
    "\n",
    "from bs4 import BeautifulSoup\n",
    "\n",
    "nltk.download('stopwords')\n",
    "nltk.download('omw-1.4')\n",
    "from nltk.corpus import stopwords\n",
    "from nltk.stem import WordNetLemmatizer"
   ]
  },
  {
   "cell_type": "code",
   "execution_count": 33,
   "id": "7912ab2b-ced4-460e-a680-4b4f5bf44e5f",
   "metadata": {},
   "outputs": [],
   "source": [
    "train = pd.read_csv('word2vec-nlp-tutorial/labeledTrainData.tsv', delimiter='\\t')"
   ]
  },
  {
   "cell_type": "code",
   "execution_count": 34,
   "id": "ff04c7f7-611c-4c2c-aa3f-79a42af68ad7",
   "metadata": {},
   "outputs": [
    {
     "data": {
      "text/html": [
       "<div>\n",
       "<style scoped>\n",
       "    .dataframe tbody tr th:only-of-type {\n",
       "        vertical-align: middle;\n",
       "    }\n",
       "\n",
       "    .dataframe tbody tr th {\n",
       "        vertical-align: top;\n",
       "    }\n",
       "\n",
       "    .dataframe thead th {\n",
       "        text-align: right;\n",
       "    }\n",
       "</style>\n",
       "<table border=\"1\" class=\"dataframe\">\n",
       "  <thead>\n",
       "    <tr style=\"text-align: right;\">\n",
       "      <th></th>\n",
       "      <th>id</th>\n",
       "      <th>sentiment</th>\n",
       "      <th>review</th>\n",
       "    </tr>\n",
       "  </thead>\n",
       "  <tbody>\n",
       "    <tr>\n",
       "      <th>0</th>\n",
       "      <td>5814_8</td>\n",
       "      <td>1</td>\n",
       "      <td>With all this stuff going down at the moment w...</td>\n",
       "    </tr>\n",
       "    <tr>\n",
       "      <th>1</th>\n",
       "      <td>2381_9</td>\n",
       "      <td>1</td>\n",
       "      <td>\\The Classic War of the Worlds\\\" by Timothy Hi...</td>\n",
       "    </tr>\n",
       "    <tr>\n",
       "      <th>2</th>\n",
       "      <td>7759_3</td>\n",
       "      <td>0</td>\n",
       "      <td>The film starts with a manager (Nicholas Bell)...</td>\n",
       "    </tr>\n",
       "    <tr>\n",
       "      <th>3</th>\n",
       "      <td>3630_4</td>\n",
       "      <td>0</td>\n",
       "      <td>It must be assumed that those who praised this...</td>\n",
       "    </tr>\n",
       "    <tr>\n",
       "      <th>4</th>\n",
       "      <td>9495_8</td>\n",
       "      <td>1</td>\n",
       "      <td>Superbly trashy and wondrously unpretentious 8...</td>\n",
       "    </tr>\n",
       "  </tbody>\n",
       "</table>\n",
       "</div>"
      ],
      "text/plain": [
       "       id  sentiment                                             review\n",
       "0  5814_8          1  With all this stuff going down at the moment w...\n",
       "1  2381_9          1  \\The Classic War of the Worlds\\\" by Timothy Hi...\n",
       "2  7759_3          0  The film starts with a manager (Nicholas Bell)...\n",
       "3  3630_4          0  It must be assumed that those who praised this...\n",
       "4  9495_8          1  Superbly trashy and wondrously unpretentious 8..."
      ]
     },
     "execution_count": 34,
     "metadata": {},
     "output_type": "execute_result"
    }
   ],
   "source": [
    "train.head()"
   ]
  },
  {
   "cell_type": "code",
   "execution_count": 35,
   "id": "a52b13db-8770-43ca-b53e-e17f96163630",
   "metadata": {},
   "outputs": [
    {
     "data": {
      "text/plain": [
       "(25000, 3)"
      ]
     },
     "execution_count": 35,
     "metadata": {},
     "output_type": "execute_result"
    }
   ],
   "source": [
    "train.shape"
   ]
  },
  {
   "cell_type": "code",
   "execution_count": 36,
   "id": "d926f9e4-a45d-43ad-ae5e-0d94aa0ba346",
   "metadata": {},
   "outputs": [
    {
     "data": {
      "text/plain": [
       "Index(['id', 'sentiment', 'review'], dtype='object')"
      ]
     },
     "execution_count": 36,
     "metadata": {},
     "output_type": "execute_result"
    }
   ],
   "source": [
    "train.columns"
   ]
  },
  {
   "cell_type": "code",
   "execution_count": 37,
   "id": "2667b968-6700-4eb8-b61f-5a986ad99620",
   "metadata": {},
   "outputs": [
    {
     "data": {
      "text/plain": [
       "\"With all this stuff going down at the moment with MJ i've started listening to his music, watching the odd documentary here and there, watched The Wiz and watched Moonwalker again. Maybe i just want to get a certain insight into this guy who i thought was really cool in the eighties just to maybe make up my mind whether he is guilty or innocent. Moonwalker is part biography, part feature film which i remember going to see at the cinema when it was originally released. Some of it has subtle messages about MJ's feeling towards the press and also the obvious message of drugs are bad m'kay.<br /><br />Visually impressive but of course this is all about Michael Jackson so unless you remotely like MJ in anyway then you are going to hate this and find it boring. Some may call MJ an egotist for consenting to the making of this movie BUT MJ and most of his fans would say that he made it for the fans which if true is really nice of him.<br /><br />The actual feature film bit when it finally starts is only on for 20 minutes or so excluding the Smooth Criminal sequence and Joe Pesci is convincing as a psychopathic all powerful drug lord. Why he wants MJ dead so bad is beyond me. Because MJ overheard his plans? Nah, Joe Pesci's character ranted that he wanted people to know it is he who is supplying drugs etc so i dunno, maybe he just hates MJ's music.<br /><br />Lots of cool things in this like MJ turning into a car and a robot and the whole Speed Demon sequence. Also, the director must have had the patience of a saint when it came to filming the kiddy Bad sequence as usually directors hate working with one kid let alone a whole bunch of them performing a complex dance scene.<br /><br />Bottom line, this movie is for people who like MJ on one level or another (which i think is most people). If not, then stay away. It does try and give off a wholesome message and ironically MJ's bestest buddy in this movie is a girl! Michael Jackson is truly one of the most talented people ever to grace this planet but is he guilty? Well, with all the attention i've gave this subject....hmmm well i don't know because people can be different behind closed doors, i know this for a fact. He is either an extremely nice but stupid guy or one of the most sickest liars. I hope he is not the latter.\""
      ]
     },
     "execution_count": 37,
     "metadata": {},
     "output_type": "execute_result"
    }
   ],
   "source": [
    "train['review'].loc[0]"
   ]
  },
  {
   "cell_type": "code",
   "execution_count": 38,
   "id": "8711f657-b4cb-4e5a-bc5f-b8c1232f0cb8",
   "metadata": {},
   "outputs": [],
   "source": [
    "# Example of how to remove html tags from the unstructured text using BeautifulSoup4\n",
    "example = BeautifulSoup(train['review'].loc[0])"
   ]
  },
  {
   "cell_type": "code",
   "execution_count": 39,
   "id": "c232e846-6a4c-4cd5-9371-308386d2c483",
   "metadata": {},
   "outputs": [
    {
     "data": {
      "text/plain": [
       "\"With all this stuff going down at the moment with MJ i've started listening to his music, watching the odd documentary here and there, watched The Wiz and watched Moonwalker again. Maybe i just want to get a certain insight into this guy who i thought was really cool in the eighties just to maybe make up my mind whether he is guilty or innocent. Moonwalker is part biography, part feature film which i remember going to see at the cinema when it was originally released. Some of it has subtle messages about MJ's feeling towards the press and also the obvious message of drugs are bad m'kay.Visually impressive but of course this is all about Michael Jackson so unless you remotely like MJ in anyway then you are going to hate this and find it boring. Some may call MJ an egotist for consenting to the making of this movie BUT MJ and most of his fans would say that he made it for the fans which if true is really nice of him.The actual feature film bit when it finally starts is only on for 20 minutes or so excluding the Smooth Criminal sequence and Joe Pesci is convincing as a psychopathic all powerful drug lord. Why he wants MJ dead so bad is beyond me. Because MJ overheard his plans? Nah, Joe Pesci's character ranted that he wanted people to know it is he who is supplying drugs etc so i dunno, maybe he just hates MJ's music.Lots of cool things in this like MJ turning into a car and a robot and the whole Speed Demon sequence. Also, the director must have had the patience of a saint when it came to filming the kiddy Bad sequence as usually directors hate working with one kid let alone a whole bunch of them performing a complex dance scene.Bottom line, this movie is for people who like MJ on one level or another (which i think is most people). If not, then stay away. It does try and give off a wholesome message and ironically MJ's bestest buddy in this movie is a girl! Michael Jackson is truly one of the most talented people ever to grace this planet but is he guilty? Well, with all the attention i've gave this subject....hmmm well i don't know because people can be different behind closed doors, i know this for a fact. He is either an extremely nice but stupid guy or one of the most sickest liars. I hope he is not the latter.\""
      ]
     },
     "execution_count": 39,
     "metadata": {},
     "output_type": "execute_result"
    }
   ],
   "source": [
    "example.get_text()"
   ]
  },
  {
   "cell_type": "code",
   "execution_count": 40,
   "id": "923997f0-32d4-4f75-ac46-7b048e6e93c8",
   "metadata": {},
   "outputs": [
    {
     "data": {
      "text/plain": [
       "'With all this stuff going down at the moment with MJ i ve started listening to his music  watching the odd documentary here and there  watched The Wiz and watched Moonwalker again  Maybe i just want to get a certain insight into this guy who i thought was really cool in the eighties just to maybe make up my mind whether he is guilty or innocent  Moonwalker is part biography  part feature film which i remember going to see at the cinema when it was originally released  Some of it has subtle messages about MJ s feeling towards the press and also the obvious message of drugs are bad m kay Visually impressive but of course this is all about Michael Jackson so unless you remotely like MJ in anyway then you are going to hate this and find it boring  Some may call MJ an egotist for consenting to the making of this movie BUT MJ and most of his fans would say that he made it for the fans which if true is really nice of him The actual feature film bit when it finally starts is only on for    minutes or so excluding the Smooth Criminal sequence and Joe Pesci is convincing as a psychopathic all powerful drug lord  Why he wants MJ dead so bad is beyond me  Because MJ overheard his plans  Nah  Joe Pesci s character ranted that he wanted people to know it is he who is supplying drugs etc so i dunno  maybe he just hates MJ s music Lots of cool things in this like MJ turning into a car and a robot and the whole Speed Demon sequence  Also  the director must have had the patience of a saint when it came to filming the kiddy Bad sequence as usually directors hate working with one kid let alone a whole bunch of them performing a complex dance scene Bottom line  this movie is for people who like MJ on one level or another  which i think is most people   If not  then stay away  It does try and give off a wholesome message and ironically MJ s bestest buddy in this movie is a girl  Michael Jackson is truly one of the most talented people ever to grace this planet but is he guilty  Well  with all the attention i ve gave this subject    hmmm well i don t know because people can be different behind closed doors  i know this for a fact  He is either an extremely nice but stupid guy or one of the most sickest liars  I hope he is not the latter '"
      ]
     },
     "execution_count": 40,
     "metadata": {},
     "output_type": "execute_result"
    }
   ],
   "source": [
    "# Example of how to remove all punctuation with Regular Expressions (import re)\n",
    "letters_only = re.sub('[^a-zA-Z]', ' ', example.get_text())\n",
    "letters_only"
   ]
  },
  {
   "cell_type": "code",
   "execution_count": 41,
   "id": "1e834a59-3ab0-438c-a718-5743a064e6a2",
   "metadata": {},
   "outputs": [
    {
     "data": {
      "text/plain": [
       "'with all this stuff going down at the moment with mj i ve started listening to his music  watching the odd documentary here and there  watched the wiz and watched moonwalker again  maybe i just want to get a certain insight into this guy who i thought was really cool in the eighties just to maybe make up my mind whether he is guilty or innocent  moonwalker is part biography  part feature film which i remember going to see at the cinema when it was originally released  some of it has subtle messages about mj s feeling towards the press and also the obvious message of drugs are bad m kay visually impressive but of course this is all about michael jackson so unless you remotely like mj in anyway then you are going to hate this and find it boring  some may call mj an egotist for consenting to the making of this movie but mj and most of his fans would say that he made it for the fans which if true is really nice of him the actual feature film bit when it finally starts is only on for    minutes or so excluding the smooth criminal sequence and joe pesci is convincing as a psychopathic all powerful drug lord  why he wants mj dead so bad is beyond me  because mj overheard his plans  nah  joe pesci s character ranted that he wanted people to know it is he who is supplying drugs etc so i dunno  maybe he just hates mj s music lots of cool things in this like mj turning into a car and a robot and the whole speed demon sequence  also  the director must have had the patience of a saint when it came to filming the kiddy bad sequence as usually directors hate working with one kid let alone a whole bunch of them performing a complex dance scene bottom line  this movie is for people who like mj on one level or another  which i think is most people   if not  then stay away  it does try and give off a wholesome message and ironically mj s bestest buddy in this movie is a girl  michael jackson is truly one of the most talented people ever to grace this planet but is he guilty  well  with all the attention i ve gave this subject    hmmm well i don t know because people can be different behind closed doors  i know this for a fact  he is either an extremely nice but stupid guy or one of the most sickest liars  i hope he is not the latter '"
      ]
     },
     "execution_count": 41,
     "metadata": {},
     "output_type": "execute_result"
    }
   ],
   "source": [
    "# Convert all to lower case\n",
    "lower = letters_only.lower()\n",
    "lower"
   ]
  },
  {
   "cell_type": "code",
   "execution_count": 42,
   "id": "8d08a6de-e14d-4a0a-b8cf-3d7f00691802",
   "metadata": {},
   "outputs": [
    {
     "data": {
      "text/plain": [
       "['with',\n",
       " 'all',\n",
       " 'this',\n",
       " 'stuff',\n",
       " 'going',\n",
       " 'down',\n",
       " 'at',\n",
       " 'the',\n",
       " 'moment',\n",
       " 'with']"
      ]
     },
     "execution_count": 42,
     "metadata": {},
     "output_type": "execute_result"
    }
   ],
   "source": [
    "# Split unstructured text into a list of words\n",
    "words = lower.split()\n",
    "words[0:10]"
   ]
  },
  {
   "cell_type": "code",
   "execution_count": 43,
   "id": "b80ba0fa-615e-4174-af4e-4f99945ff066",
   "metadata": {},
   "outputs": [
    {
     "data": {
      "text/plain": [
       "['stuff',\n",
       " 'going',\n",
       " 'moment',\n",
       " 'mj',\n",
       " 'started',\n",
       " 'listening',\n",
       " 'music',\n",
       " 'watching',\n",
       " 'odd',\n",
       " 'documentary']"
      ]
     },
     "execution_count": 43,
     "metadata": {},
     "output_type": "execute_result"
    }
   ],
   "source": [
    "# Remove stopwords from the NLTK stopwords Corpus\n",
    "words = [w for w in words if not w in stopwords.words('english')]\n",
    "words[0:10]"
   ]
  },
  {
   "cell_type": "code",
   "execution_count": 55,
   "id": "bb44593f-3b85-4551-927a-3738e02edd58",
   "metadata": {},
   "outputs": [
    {
     "data": {
      "text/plain": [
       "['stuff',\n",
       " 'go',\n",
       " 'moment',\n",
       " 'mj',\n",
       " 'start',\n",
       " 'listen',\n",
       " 'music',\n",
       " 'watch',\n",
       " 'odd',\n",
       " 'documentary']"
      ]
     },
     "execution_count": 55,
     "metadata": {},
     "output_type": "execute_result"
    }
   ],
   "source": [
    "# Lemmatize verbs using NLTKs WordNetLemmatizer\n",
    "lemmatized_words = []\n",
    "for w in words:\n",
    "    lemmatized_words.append(WordNetLemmatizer().lemmatize(w, 'v'))\n",
    "lemmatized_words[0:10]"
   ]
  },
  {
   "cell_type": "code",
   "execution_count": 58,
   "id": "0e8d4258-c6c0-44dd-97c2-c3743837f086",
   "metadata": {},
   "outputs": [],
   "source": [
    "### Put all the steps together into one fuction:\n",
    "# 1. Remove HTML Tags\n",
    "# 2. Remove punctuation\n",
    "# 3. Convert to lower case\n",
    "# 4. Split into individual words\n",
    "# 5. Remove stopwords\n",
    "# 6. Lemmatize verbs\n",
    "# 7. Join the words back into a string separated by a single space\n",
    "\n",
    "def clean_txt(raw_text):\n",
    "    \n",
    "    # 1. Remove HTML Tags\n",
    "    review = BeautifulSoup(raw_text)\n",
    "    \n",
    "    # 2. Remove punctuation\n",
    "    letters_only = re.sub('[^a-zA-Z]', ' ', review.get_text())\n",
    "    \n",
    "    # 3. Convert to lower case\n",
    "    lower = letters_only.lower()\n",
    "    \n",
    "    # 4. Split into individual words\n",
    "    words = lower.split()\n",
    "    \n",
    "    # 5. Remove stopwords\n",
    "    words = [w for w in words if not w in stopwords.words('english')]\n",
    "    \n",
    "    # 6. Lemmatize verbs\n",
    "    lemmatized_words = []\n",
    "    for w in words:\n",
    "        lemmatized_words.append(WordNetLemmatizer().lemmatize(w, 'v'))\n",
    "\n",
    "    # 7. Join the words back into a string separated by a single space\n",
    "    return(' '.join(lemmatized_words)) \n"
   ]
  },
  {
   "cell_type": "code",
   "execution_count": 59,
   "id": "f5ba0e47-bf38-4069-935b-1e1770736059",
   "metadata": {},
   "outputs": [
    {
     "data": {
      "text/plain": [
       "'stuff go moment mj start listen music watch odd documentary watch wiz watch moonwalker maybe want get certain insight guy think really cool eighties maybe make mind whether guilty innocent moonwalker part biography part feature film remember go see cinema originally release subtle message mj feel towards press also obvious message drug bad kay visually impressive course michael jackson unless remotely like mj anyway go hate find bore may call mj egotist consent make movie mj fan would say make fan true really nice actual feature film bite finally start minutes exclude smooth criminal sequence joe pesci convince psychopathic powerful drug lord want mj dead bad beyond mj overhear plan nah joe pesci character rant want people know supply drug etc dunno maybe hat mj music lot cool things like mj turn car robot whole speed demon sequence also director must patience saint come film kiddy bad sequence usually directors hate work one kid let alone whole bunch perform complex dance scene bottom line movie people like mj one level another think people stay away try give wholesome message ironically mj bestest buddy movie girl michael jackson truly one talented people ever grace planet guilty well attention give subject hmmm well know people different behind close doors know fact either extremely nice stupid guy one sickest liars hope latter'"
      ]
     },
     "execution_count": 59,
     "metadata": {},
     "output_type": "execute_result"
    }
   ],
   "source": [
    "# Verify that the clean_txt function operates as expected\n",
    "clean_txt(train['review'].loc[0])"
   ]
  },
  {
   "cell_type": "code",
   "execution_count": 65,
   "id": "57fecb68-a1fa-41ff-bfe4-a8b5ac5a600d",
   "metadata": {},
   "outputs": [
    {
     "name": "stderr",
     "output_type": "stream",
     "text": [
      "/Users/boukhris-escandon/opt/anaconda3/envs/popcorn/lib/python3.8/site-packages/bs4/__init__.py:435: MarkupResemblesLocatorWarning: The input looks more like a filename than markup. You may want to open this file and pass the filehandle into Beautiful Soup.\n",
      "  warnings.warn(\n"
     ]
    },
    {
     "name": "stdout",
     "output_type": "stream",
     "text": [
      "Review 1000 of 25000/n\n",
      "Review 2000 of 25000/n\n",
      "Review 3000 of 25000/n\n",
      "Review 4000 of 25000/n\n",
      "Review 5000 of 25000/n\n",
      "Review 6000 of 25000/n\n",
      "Review 7000 of 25000/n\n",
      "Review 8000 of 25000/n\n",
      "Review 9000 of 25000/n\n",
      "Review 10000 of 25000/n\n",
      "Review 11000 of 25000/n\n",
      "Review 12000 of 25000/n\n",
      "Review 13000 of 25000/n\n",
      "Review 14000 of 25000/n\n",
      "Review 15000 of 25000/n\n",
      "Review 16000 of 25000/n\n",
      "Review 17000 of 25000/n\n",
      "Review 18000 of 25000/n\n",
      "Review 19000 of 25000/n\n",
      "Review 20000 of 25000/n\n",
      "Review 21000 of 25000/n\n",
      "Review 22000 of 25000/n\n",
      "Review 23000 of 25000/n\n",
      "Review 24000 of 25000/n\n",
      "Review 25000 of 25000/n\n"
     ]
    }
   ],
   "source": [
    "# Loop through all of the reviews in the training set and clean the text\n",
    "clean_train = []\n",
    "\n",
    "for i in range(0, train.shape[0]):\n",
    "    if (i+1)%1000 == 0:\n",
    "        print('Review %d of %d/n' % (i+1, train.shape[0]))\n",
    "    clean_train.append(clean_txt(train['review'][i]))"
   ]
  },
  {
   "cell_type": "code",
   "execution_count": 67,
   "id": "6eea9f47-bf87-40d5-8943-41d038331df7",
   "metadata": {},
   "outputs": [
    {
     "data": {
      "text/plain": [
       "['stuff go moment mj start listen music watch odd documentary watch wiz watch moonwalker maybe want get certain insight guy think really cool eighties maybe make mind whether guilty innocent moonwalker part biography part feature film remember go see cinema originally release subtle message mj feel towards press also obvious message drug bad kay visually impressive course michael jackson unless remotely like mj anyway go hate find bore may call mj egotist consent make movie mj fan would say make fan true really nice actual feature film bite finally start minutes exclude smooth criminal sequence joe pesci convince psychopathic powerful drug lord want mj dead bad beyond mj overhear plan nah joe pesci character rant want people know supply drug etc dunno maybe hat mj music lot cool things like mj turn car robot whole speed demon sequence also director must patience saint come film kiddy bad sequence usually directors hate work one kid let alone whole bunch perform complex dance scene bottom line movie people like mj one level another think people stay away try give wholesome message ironically mj bestest buddy movie girl michael jackson truly one talented people ever grace planet guilty well attention give subject hmmm well know people different behind close doors know fact either extremely nice stupid guy one sickest liars hope latter',\n",
       " 'classic war worlds timothy hines entertain film obviously go great effort lengths faithfully recreate h g well classic book mr hines succeed watch film appreciate fact standard predictable hollywood fare come every year e g spielberg version tom cruise slightest resemblance book obviously everyone look different things movie envision amateur critics look criticize everything others rate movie important base like entertain people never agree critics enjoy effort mr hines put faithful h g well classic novel find entertain make easy overlook critics perceive shortcomings',\n",
       " 'film start manager nicholas bell give welcome investors robert carradine primal park secret project mutate primal animal use fossilize dna like jurassik park scientists resurrect one nature fearsome predators sabretooth tiger smilodon scientific ambition turn deadly however high voltage fence open creature escape begin savagely stalk prey human visitors tourists scientific meanwhile youngsters enter restrict area security center attack pack large pre historical animals deadlier bigger addition security agent stacy haiduk mate brian wimmer fight hardly carnivorous smilodons sabretooths course real star star astound terrifyingly though convince giant animals savagely stalk prey group run afoul fight one nature fearsome predators furthermore third sabretooth dangerous slow stalk victims movie deliver goods lot blood gore behead hair raise chill full scar sabretooths appear mediocre special effect story provide excite stir entertainment result quite bore giant animals majority make computer generator seem totally lousy middle performances though players react appropriately become food actors give vigorously physical performances dodge beasts run bind leap dangle wall pack ridiculous final deadly scene small kid realistic gory violent attack scenes film sabretooths smilodon follow sabretooth jam r hickox vanessa angel david keith john rhys davies much better bc roland emmerich steven strait cliff curtis camilla belle motion picture fill bloody moments badly direct george miller originality take many elements previous film miller australian director usually work television tidal wave journey center earth many others occasionally cinema man snowy river zeus roxanne robinson crusoe rat average bottom barrel']"
      ]
     },
     "execution_count": 67,
     "metadata": {},
     "output_type": "execute_result"
    }
   ],
   "source": [
    "clean_train[0:3]"
   ]
  },
  {
   "cell_type": "code",
   "execution_count": 68,
   "id": "2b340033-7ba3-47d4-a943-1c1fca24fabd",
   "metadata": {},
   "outputs": [],
   "source": [
    "train['clean_review'] = clean_train"
   ]
  },
  {
   "cell_type": "code",
   "execution_count": 69,
   "id": "e5c34c18-1e94-4f36-9cbc-c36b486dc051",
   "metadata": {},
   "outputs": [
    {
     "data": {
      "text/html": [
       "<div>\n",
       "<style scoped>\n",
       "    .dataframe tbody tr th:only-of-type {\n",
       "        vertical-align: middle;\n",
       "    }\n",
       "\n",
       "    .dataframe tbody tr th {\n",
       "        vertical-align: top;\n",
       "    }\n",
       "\n",
       "    .dataframe thead th {\n",
       "        text-align: right;\n",
       "    }\n",
       "</style>\n",
       "<table border=\"1\" class=\"dataframe\">\n",
       "  <thead>\n",
       "    <tr style=\"text-align: right;\">\n",
       "      <th></th>\n",
       "      <th>id</th>\n",
       "      <th>sentiment</th>\n",
       "      <th>review</th>\n",
       "      <th>clean_review</th>\n",
       "    </tr>\n",
       "  </thead>\n",
       "  <tbody>\n",
       "    <tr>\n",
       "      <th>0</th>\n",
       "      <td>5814_8</td>\n",
       "      <td>1</td>\n",
       "      <td>With all this stuff going down at the moment w...</td>\n",
       "      <td>stuff go moment mj start listen music watch od...</td>\n",
       "    </tr>\n",
       "    <tr>\n",
       "      <th>1</th>\n",
       "      <td>2381_9</td>\n",
       "      <td>1</td>\n",
       "      <td>\\The Classic War of the Worlds\\\" by Timothy Hi...</td>\n",
       "      <td>classic war worlds timothy hines entertain fil...</td>\n",
       "    </tr>\n",
       "    <tr>\n",
       "      <th>2</th>\n",
       "      <td>7759_3</td>\n",
       "      <td>0</td>\n",
       "      <td>The film starts with a manager (Nicholas Bell)...</td>\n",
       "      <td>film start manager nicholas bell give welcome ...</td>\n",
       "    </tr>\n",
       "    <tr>\n",
       "      <th>3</th>\n",
       "      <td>3630_4</td>\n",
       "      <td>0</td>\n",
       "      <td>It must be assumed that those who praised this...</td>\n",
       "      <td>must assume praise film greatest film opera ev...</td>\n",
       "    </tr>\n",
       "    <tr>\n",
       "      <th>4</th>\n",
       "      <td>9495_8</td>\n",
       "      <td>1</td>\n",
       "      <td>Superbly trashy and wondrously unpretentious 8...</td>\n",
       "      <td>superbly trashy wondrously unpretentious explo...</td>\n",
       "    </tr>\n",
       "  </tbody>\n",
       "</table>\n",
       "</div>"
      ],
      "text/plain": [
       "       id  sentiment                                             review  \\\n",
       "0  5814_8          1  With all this stuff going down at the moment w...   \n",
       "1  2381_9          1  \\The Classic War of the Worlds\\\" by Timothy Hi...   \n",
       "2  7759_3          0  The film starts with a manager (Nicholas Bell)...   \n",
       "3  3630_4          0  It must be assumed that those who praised this...   \n",
       "4  9495_8          1  Superbly trashy and wondrously unpretentious 8...   \n",
       "\n",
       "                                        clean_review  \n",
       "0  stuff go moment mj start listen music watch od...  \n",
       "1  classic war worlds timothy hines entertain fil...  \n",
       "2  film start manager nicholas bell give welcome ...  \n",
       "3  must assume praise film greatest film opera ev...  \n",
       "4  superbly trashy wondrously unpretentious explo...  "
      ]
     },
     "execution_count": 69,
     "metadata": {},
     "output_type": "execute_result"
    }
   ],
   "source": [
    "train.head()"
   ]
  },
  {
   "cell_type": "code",
   "execution_count": 70,
   "id": "ac484e6c-93f9-41e5-81a6-45606a50e958",
   "metadata": {},
   "outputs": [
    {
     "data": {
      "text/html": [
       "<div>\n",
       "<style scoped>\n",
       "    .dataframe tbody tr th:only-of-type {\n",
       "        vertical-align: middle;\n",
       "    }\n",
       "\n",
       "    .dataframe tbody tr th {\n",
       "        vertical-align: top;\n",
       "    }\n",
       "\n",
       "    .dataframe thead th {\n",
       "        text-align: right;\n",
       "    }\n",
       "</style>\n",
       "<table border=\"1\" class=\"dataframe\">\n",
       "  <thead>\n",
       "    <tr style=\"text-align: right;\">\n",
       "      <th></th>\n",
       "      <th>id</th>\n",
       "      <th>sentiment</th>\n",
       "      <th>review</th>\n",
       "      <th>clean_review</th>\n",
       "    </tr>\n",
       "  </thead>\n",
       "  <tbody>\n",
       "    <tr>\n",
       "      <th>24995</th>\n",
       "      <td>3453_3</td>\n",
       "      <td>0</td>\n",
       "      <td>It seems like more consideration has gone into...</td>\n",
       "      <td>seem like consideration go imdb review film go...</td>\n",
       "    </tr>\n",
       "    <tr>\n",
       "      <th>24996</th>\n",
       "      <td>5064_1</td>\n",
       "      <td>0</td>\n",
       "      <td>I don't believe they made this film. Completel...</td>\n",
       "      <td>believe make film completely unnecessary first...</td>\n",
       "    </tr>\n",
       "    <tr>\n",
       "      <th>24997</th>\n",
       "      <td>10905_3</td>\n",
       "      <td>0</td>\n",
       "      <td>Guy is a loser. Can't get girls, needs to buil...</td>\n",
       "      <td>guy loser get girls need build pick stronger s...</td>\n",
       "    </tr>\n",
       "    <tr>\n",
       "      <th>24998</th>\n",
       "      <td>10194_3</td>\n",
       "      <td>0</td>\n",
       "      <td>This 30 minute documentary Buñuel made in the ...</td>\n",
       "      <td>minute documentary bu uel make early one spain...</td>\n",
       "    </tr>\n",
       "    <tr>\n",
       "      <th>24999</th>\n",
       "      <td>8478_8</td>\n",
       "      <td>1</td>\n",
       "      <td>I saw this movie as a child and it broke my he...</td>\n",
       "      <td>saw movie child break heart story unfinished e...</td>\n",
       "    </tr>\n",
       "  </tbody>\n",
       "</table>\n",
       "</div>"
      ],
      "text/plain": [
       "            id  sentiment                                             review  \\\n",
       "24995   3453_3          0  It seems like more consideration has gone into...   \n",
       "24996   5064_1          0  I don't believe they made this film. Completel...   \n",
       "24997  10905_3          0  Guy is a loser. Can't get girls, needs to buil...   \n",
       "24998  10194_3          0  This 30 minute documentary Buñuel made in the ...   \n",
       "24999   8478_8          1  I saw this movie as a child and it broke my he...   \n",
       "\n",
       "                                            clean_review  \n",
       "24995  seem like consideration go imdb review film go...  \n",
       "24996  believe make film completely unnecessary first...  \n",
       "24997  guy loser get girls need build pick stronger s...  \n",
       "24998  minute documentary bu uel make early one spain...  \n",
       "24999  saw movie child break heart story unfinished e...  "
      ]
     },
     "execution_count": 70,
     "metadata": {},
     "output_type": "execute_result"
    }
   ],
   "source": [
    "train.tail()"
   ]
  },
  {
   "cell_type": "code",
   "execution_count": 72,
   "id": "1cb3b935-f89c-4a27-a619-057fb5abc557",
   "metadata": {},
   "outputs": [],
   "source": [
    "train.to_csv('clean_labeled_train.tsv', sep='\\t', header=True, index=False)"
   ]
  },
  {
   "cell_type": "code",
   "execution_count": 73,
   "id": "2d88fb28-723a-4da4-be74-a574aef4e5fc",
   "metadata": {},
   "outputs": [],
   "source": [
    "# Clean the test data for scoring and submission to Kaggle\n",
    "test = pd.read_csv('word2vec-nlp-tutorial/testData.tsv', delimiter='\\t')"
   ]
  },
  {
   "cell_type": "code",
   "execution_count": 74,
   "id": "f7322d11-2e59-4d4e-83fd-43c452939dc1",
   "metadata": {},
   "outputs": [
    {
     "data": {
      "text/html": [
       "<div>\n",
       "<style scoped>\n",
       "    .dataframe tbody tr th:only-of-type {\n",
       "        vertical-align: middle;\n",
       "    }\n",
       "\n",
       "    .dataframe tbody tr th {\n",
       "        vertical-align: top;\n",
       "    }\n",
       "\n",
       "    .dataframe thead th {\n",
       "        text-align: right;\n",
       "    }\n",
       "</style>\n",
       "<table border=\"1\" class=\"dataframe\">\n",
       "  <thead>\n",
       "    <tr style=\"text-align: right;\">\n",
       "      <th></th>\n",
       "      <th>id</th>\n",
       "      <th>review</th>\n",
       "    </tr>\n",
       "  </thead>\n",
       "  <tbody>\n",
       "    <tr>\n",
       "      <th>0</th>\n",
       "      <td>12311_10</td>\n",
       "      <td>Naturally in a film who's main themes are of m...</td>\n",
       "    </tr>\n",
       "    <tr>\n",
       "      <th>1</th>\n",
       "      <td>8348_2</td>\n",
       "      <td>This movie is a disaster within a disaster fil...</td>\n",
       "    </tr>\n",
       "    <tr>\n",
       "      <th>2</th>\n",
       "      <td>5828_4</td>\n",
       "      <td>All in all, this is a movie for kids. We saw i...</td>\n",
       "    </tr>\n",
       "    <tr>\n",
       "      <th>3</th>\n",
       "      <td>7186_2</td>\n",
       "      <td>Afraid of the Dark left me with the impression...</td>\n",
       "    </tr>\n",
       "    <tr>\n",
       "      <th>4</th>\n",
       "      <td>12128_7</td>\n",
       "      <td>A very accurate depiction of small time mob li...</td>\n",
       "    </tr>\n",
       "  </tbody>\n",
       "</table>\n",
       "</div>"
      ],
      "text/plain": [
       "         id                                             review\n",
       "0  12311_10  Naturally in a film who's main themes are of m...\n",
       "1    8348_2  This movie is a disaster within a disaster fil...\n",
       "2    5828_4  All in all, this is a movie for kids. We saw i...\n",
       "3    7186_2  Afraid of the Dark left me with the impression...\n",
       "4   12128_7  A very accurate depiction of small time mob li..."
      ]
     },
     "execution_count": 74,
     "metadata": {},
     "output_type": "execute_result"
    }
   ],
   "source": [
    "test.head()"
   ]
  },
  {
   "cell_type": "code",
   "execution_count": 75,
   "id": "873e7d54-1723-4cac-a6ac-bd1c6468a1ef",
   "metadata": {},
   "outputs": [
    {
     "name": "stderr",
     "output_type": "stream",
     "text": [
      "/Users/boukhris-escandon/opt/anaconda3/envs/popcorn/lib/python3.8/site-packages/bs4/__init__.py:435: MarkupResemblesLocatorWarning: The input looks more like a filename than markup. You may want to open this file and pass the filehandle into Beautiful Soup.\n",
      "  warnings.warn(\n"
     ]
    },
    {
     "name": "stdout",
     "output_type": "stream",
     "text": [
      "Review 1000 of 25000/n\n",
      "Review 2000 of 25000/n\n",
      "Review 3000 of 25000/n\n",
      "Review 4000 of 25000/n\n",
      "Review 5000 of 25000/n\n",
      "Review 6000 of 25000/n\n",
      "Review 7000 of 25000/n\n",
      "Review 8000 of 25000/n\n",
      "Review 9000 of 25000/n\n",
      "Review 10000 of 25000/n\n",
      "Review 11000 of 25000/n\n",
      "Review 12000 of 25000/n\n",
      "Review 13000 of 25000/n\n",
      "Review 14000 of 25000/n\n",
      "Review 15000 of 25000/n\n",
      "Review 16000 of 25000/n\n",
      "Review 17000 of 25000/n\n",
      "Review 18000 of 25000/n\n",
      "Review 19000 of 25000/n\n",
      "Review 20000 of 25000/n\n",
      "Review 21000 of 25000/n\n",
      "Review 22000 of 25000/n\n",
      "Review 23000 of 25000/n\n",
      "Review 24000 of 25000/n\n",
      "Review 25000 of 25000/n\n"
     ]
    }
   ],
   "source": [
    "# Loop through all of the reviews in the test set and clean the text\n",
    "clean_test = []\n",
    "\n",
    "for i in range(0, test.shape[0]):\n",
    "    if (i+1)%1000 == 0:\n",
    "        print('Review %d of %d/n' % (i+1, test.shape[0]))\n",
    "    clean_test.append(clean_txt(test['review'][i]))"
   ]
  },
  {
   "cell_type": "code",
   "execution_count": 76,
   "id": "90b6699d-e9df-4953-b4ce-1b13a3a04e49",
   "metadata": {},
   "outputs": [],
   "source": [
    "test['clean_revew'] = clean_test"
   ]
  },
  {
   "cell_type": "code",
   "execution_count": 77,
   "id": "af372e44-5a8a-4fb5-8e53-538d62a7fe90",
   "metadata": {},
   "outputs": [
    {
     "data": {
      "text/html": [
       "<div>\n",
       "<style scoped>\n",
       "    .dataframe tbody tr th:only-of-type {\n",
       "        vertical-align: middle;\n",
       "    }\n",
       "\n",
       "    .dataframe tbody tr th {\n",
       "        vertical-align: top;\n",
       "    }\n",
       "\n",
       "    .dataframe thead th {\n",
       "        text-align: right;\n",
       "    }\n",
       "</style>\n",
       "<table border=\"1\" class=\"dataframe\">\n",
       "  <thead>\n",
       "    <tr style=\"text-align: right;\">\n",
       "      <th></th>\n",
       "      <th>id</th>\n",
       "      <th>review</th>\n",
       "      <th>clean_revew</th>\n",
       "    </tr>\n",
       "  </thead>\n",
       "  <tbody>\n",
       "    <tr>\n",
       "      <th>0</th>\n",
       "      <td>12311_10</td>\n",
       "      <td>Naturally in a film who's main themes are of m...</td>\n",
       "      <td>naturally film main theme mortality nostalgia ...</td>\n",
       "    </tr>\n",
       "    <tr>\n",
       "      <th>1</th>\n",
       "      <td>8348_2</td>\n",
       "      <td>This movie is a disaster within a disaster fil...</td>\n",
       "      <td>movie disaster within disaster film full great...</td>\n",
       "    </tr>\n",
       "    <tr>\n",
       "      <th>2</th>\n",
       "      <td>5828_4</td>\n",
       "      <td>All in all, this is a movie for kids. We saw i...</td>\n",
       "      <td>movie kid saw tonight child love one point kid...</td>\n",
       "    </tr>\n",
       "    <tr>\n",
       "      <th>3</th>\n",
       "      <td>7186_2</td>\n",
       "      <td>Afraid of the Dark left me with the impression...</td>\n",
       "      <td>afraid dark leave impression several different...</td>\n",
       "    </tr>\n",
       "    <tr>\n",
       "      <th>4</th>\n",
       "      <td>12128_7</td>\n",
       "      <td>A very accurate depiction of small time mob li...</td>\n",
       "      <td>accurate depiction small time mob life film ne...</td>\n",
       "    </tr>\n",
       "  </tbody>\n",
       "</table>\n",
       "</div>"
      ],
      "text/plain": [
       "         id                                             review  \\\n",
       "0  12311_10  Naturally in a film who's main themes are of m...   \n",
       "1    8348_2  This movie is a disaster within a disaster fil...   \n",
       "2    5828_4  All in all, this is a movie for kids. We saw i...   \n",
       "3    7186_2  Afraid of the Dark left me with the impression...   \n",
       "4   12128_7  A very accurate depiction of small time mob li...   \n",
       "\n",
       "                                         clean_revew  \n",
       "0  naturally film main theme mortality nostalgia ...  \n",
       "1  movie disaster within disaster film full great...  \n",
       "2  movie kid saw tonight child love one point kid...  \n",
       "3  afraid dark leave impression several different...  \n",
       "4  accurate depiction small time mob life film ne...  "
      ]
     },
     "execution_count": 77,
     "metadata": {},
     "output_type": "execute_result"
    }
   ],
   "source": [
    "test.head()"
   ]
  },
  {
   "cell_type": "code",
   "execution_count": 78,
   "id": "f4b92782-ced3-433d-9fe0-3068eab55d05",
   "metadata": {},
   "outputs": [],
   "source": [
    "test.to_csv('clean_labeled_test.tsv', sep='\\t', header=True, index=False)"
   ]
  },
  {
   "cell_type": "code",
   "execution_count": null,
   "id": "0943ec15-e1ec-4cb6-841c-378675f1d018",
   "metadata": {},
   "outputs": [],
   "source": []
  }
 ],
 "metadata": {
  "kernelspec": {
   "display_name": "Python 3 (ipykernel)",
   "language": "python",
   "name": "python3"
  },
  "language_info": {
   "codemirror_mode": {
    "name": "ipython",
    "version": 3
   },
   "file_extension": ".py",
   "mimetype": "text/x-python",
   "name": "python",
   "nbconvert_exporter": "python",
   "pygments_lexer": "ipython3",
   "version": "3.8.13"
  }
 },
 "nbformat": 4,
 "nbformat_minor": 5
}
